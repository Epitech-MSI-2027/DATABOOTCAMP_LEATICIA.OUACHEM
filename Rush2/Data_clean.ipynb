{
 "cells": [
  {
   "cell_type": "markdown",
   "id": "70a2b5e5-365a-4833-a04f-e5aa2f6d49b3",
   "metadata": {},
   "source": [
    "## Nettoyage des données de la Pharmacie\n",
    "\n"
   ]
  },
  {
   "cell_type": "code",
   "execution_count": 40,
   "id": "08fbcdc2-7043-4d94-b4b9-3f214a4fe20c",
   "metadata": {},
   "outputs": [
    {
     "name": "stdout",
     "output_type": "stream",
     "text": [
      "Aucune ligne ne contient que des 0 sur ces colonnes.\n",
      "Lignes contenant au moins une cellule vide ou manquante :\n",
      "Empty DataFrame\n",
      "Columns: [datum, M01AB, M01AE, N02BA, N02BE, N05B, N05C, R03, R06]\n",
      "Index: []\n",
      "\n",
      "Nombre de lignes concernées : 0\n"
     ]
    }
   ],
   "source": [
    "import pandas as pd\n",
    "\n",
    "path1 = \"C:/Users/HP/Desktop/DATABOOTCAMP/Rush2/Pharma_Ventes_Weekly.csv\"\n",
    "\n",
    "colonnes1 = ['M01AB','M01AE','N02BA','N02BE','N05B','N05C','R03','R06']\n",
    "\n",
    "# Lire le fichier\n",
    "df1 = pd.read_csv(path1, sep=\";\")\n",
    "\n",
    "lignes_zeros1 = df1[colonnes1].eq(0).all(axis=1)\n",
    "\n",
    "if lignes_zeros1.any():\n",
    "    print(\"Il y a au moins une ligne avec seulement des 0 sur ces colonnes :\")\n",
    "    print(df1[lignes_zeros1])\n",
    "else:\n",
    "    print(\"Aucune ligne ne contient que des 0 sur ces colonnes.\")\n",
    "\n",
    "lignes_vides = df1[df1.isna().any(axis=1) | df1.eq('').any(axis=1)]\n",
    "\n",
    "print(\"Lignes contenant au moins une cellule vide ou manquante :\")\n",
    "print(lignes_vides)\n",
    "\n",
    "# Afficher combien il y en a\n",
    "print(f\"\\nNombre de lignes concernées : {len(lignes_vides)}\")"
   ]
  },
  {
   "cell_type": "code",
   "execution_count": 39,
   "id": "9c1fdd4a-a5d4-4b2c-a941-eca22e55303d",
   "metadata": {},
   "outputs": [
    {
     "name": "stdout",
     "output_type": "stream",
     "text": [
      "Il y a au moins une ligne avec seulement des 0 sur ces colonnes :\n",
      "         datum  M01AB  M01AE  N02BA  N02BE  N05B  N05C  R03  R06\n",
      "36  2017-01-31    0.0    0.0    0.0    0.0   1.0   0.0  0.0  0.0\n",
      "Lignes contenant au moins une cellule vide ou manquante :\n",
      "Empty DataFrame\n",
      "Columns: [datum, M01AB, M01AE, N02BA, N02BE, N05B, N05C, R03, R06]\n",
      "Index: []\n",
      "\n",
      "Nombre de lignes concernées : 0\n"
     ]
    }
   ],
   "source": [
    "path2 = \"C:/Users/HP/Desktop/DATABOOTCAMP/Rush2/Pharma_Ventes_Monthly.csv\"\n",
    "\n",
    "colonnes2 = ['M01AB','M01AE','N02BA']\n",
    "df2 = pd.read_csv(path2)\n",
    "\n",
    "lignes_zeros2 = df2[colonnes2].eq(0).all(axis=1)\n",
    "\n",
    "if lignes_zeros2.any():\n",
    "    print(\"Il y a au moins une ligne avec seulement des 0 sur ces colonnes :\")\n",
    "    print(df2[lignes_zeros2])\n",
    "else:\n",
    "    print(\"Aucune ligne ne contient que des 0 sur ces colonnes.\")\n",
    "\n",
    "lignes_vides = df2[df2.isna().any(axis=1) | df2.eq('').any(axis=1)]\n",
    "\n",
    "print(\"Lignes contenant au moins une cellule vide ou manquante :\")\n",
    "print(lignes_vides)\n",
    "\n",
    "# Afficher combien il y en a\n",
    "print(f\"\\nNombre de lignes concernées : {len(lignes_vides)}\")"
   ]
  },
  {
   "cell_type": "code",
   "execution_count": 38,
   "id": "6b162393-4e90-4014-af95-81f5a0078568",
   "metadata": {},
   "outputs": [
    {
     "name": "stdout",
     "output_type": "stream",
     "text": [
      "Il y a au moins une ligne avec seulement des 0 sur ces colonnes :\n",
      "           datum  M01AB  M01AE  N02BA  N02BE  N05B  N05C  R03  R06  Year  \\\n",
      "5       1/7/2014    0.0    0.0    0.0    0.0   0.0   0.0  0.0  0.0  2014   \n",
      "108    4/20/2014    0.0    0.0    0.0    0.0   0.0   0.0  0.0  0.0  2014   \n",
      "119     5/1/2014    0.0    0.0    0.0    0.0   0.0   0.0  0.0  0.0  2014   \n",
      "351   12/19/2014    0.0    0.0    0.0    0.0   0.0   0.0  0.0  0.0  2014   \n",
      "364     1/1/2015    0.0    0.0    0.0    0.0   0.0   0.0  0.0  0.0  2015   \n",
      "370     1/7/2015    0.0    0.0    0.0    0.0   0.0   0.0  0.0  0.0  2015   \n",
      "465    4/12/2015    0.0    0.0    0.0    0.0   0.0   0.0  0.0  0.0  2015   \n",
      "716   12/19/2015    0.0    0.0    0.0    0.0   0.0   0.0  0.0  0.0  2015   \n",
      "729     1/1/2016    0.0    0.0    0.0    0.0   0.0   0.0  0.0  0.0  2016   \n",
      "735     1/7/2016    0.0    0.0    0.0    0.0   0.0   0.0  0.0  0.0  2016   \n",
      "850     5/1/2016    0.0    0.0    0.0    0.0   0.0   0.0  0.0  0.0  2016   \n",
      "1082  12/19/2016    0.0    0.0    0.0    0.0   0.0   0.0  0.0  0.0  2016   \n",
      "1138   2/13/2017    0.0    0.0    0.0    0.0   0.0   0.0  0.0  0.0  2017   \n",
      "1200   4/16/2017    0.0    0.0    0.0    0.0   0.0   0.0  0.0  0.0  2017   \n",
      "1376   10/9/2017    0.0    0.0    0.0    0.0   0.0   0.0  0.0  0.0  2017   \n",
      "1447  12/19/2017    0.0    0.0    0.0    0.0   0.0   0.0  0.0  0.0  2017   \n",
      "1460    1/1/2018    0.0    0.0    0.0    0.0   0.0   0.0  0.0  0.0  2018   \n",
      "1466    1/7/2018    0.0    0.0    0.0    0.0   0.0   0.0  0.0  0.0  2018   \n",
      "1557    4/8/2018    0.0    0.0    0.0    0.0   0.0   0.0  0.0  0.0  2018   \n",
      "1799   12/6/2018    0.0    0.0    0.0    0.0   0.0   0.0  0.0  0.0  2018   \n",
      "1801   12/8/2018    0.0    0.0    0.0    0.0   0.0   0.0  0.0  0.0  2018   \n",
      "1812  12/19/2018    0.0    0.0    0.0    0.0   0.0   0.0  0.0  0.0  2018   \n",
      "1825    1/1/2019    0.0    0.0    0.0    0.0   0.0   0.0  0.0  0.0  2019   \n",
      "1831    1/7/2019    0.0    0.0    0.0    0.0   0.0   0.0  0.0  0.0  2019   \n",
      "1932   4/18/2019    0.0    0.0    0.0    0.0   0.0   0.0  0.0  0.0  2019   \n",
      "1942   4/28/2019    0.0    0.0    0.0    0.0   0.0   0.0  0.0  0.0  2019   \n",
      "\n",
      "      Month  Hour Weekday Name  \n",
      "5         1   276      Tuesday  \n",
      "108       4   276       Sunday  \n",
      "119       5   276     Thursday  \n",
      "351      12   276       Friday  \n",
      "364       1   276     Thursday  \n",
      "370       1   276    Wednesday  \n",
      "465       4   276       Sunday  \n",
      "716      12   276     Saturday  \n",
      "729       1   276       Friday  \n",
      "735       1   276     Thursday  \n",
      "850       5   276       Sunday  \n",
      "1082     12   276       Monday  \n",
      "1138      2   276       Monday  \n",
      "1200      4   276       Sunday  \n",
      "1376     10   276       Monday  \n",
      "1447     12   276      Tuesday  \n",
      "1460      1   276       Monday  \n",
      "1466      1   276       Sunday  \n",
      "1557      4   276       Sunday  \n",
      "1799     12   276     Thursday  \n",
      "1801     12   276     Saturday  \n",
      "1812     12   276    Wednesday  \n",
      "1825      1   276      Tuesday  \n",
      "1831      1   276       Monday  \n",
      "1932      4   276     Thursday  \n",
      "1942      4   276       Sunday  \n",
      "Lignes contenant au moins une cellule vide ou manquante :\n",
      "Empty DataFrame\n",
      "Columns: [datum, M01AB, M01AE, N02BA, N02BE, N05B, N05C, R03, R06, Year, Month, Hour, Weekday Name]\n",
      "Index: []\n",
      "\n",
      "Nombre de lignes concernées : 0\n"
     ]
    }
   ],
   "source": [
    "path3 = \"C:/Users/HP/Desktop/DATABOOTCAMP/Rush2/Pharma_Ventes_Daily.csv\"\n",
    "colonnes3 = ['M01AB','M01AE','N02BA','N02BE','N05B','N05C','R03','R06']\n",
    "df3 = pd.read_csv(path3)\n",
    "lignes_zeros3 = df3[colonnes3].eq(0).all(axis=1)\n",
    "if lignes_zeros3.any():\n",
    "    print(\"Il y a au moins une ligne avec seulement des 0 sur ces colonnes :\")\n",
    "    print(df3[lignes_zeros3])\n",
    "else:\n",
    "    print(\"Aucune ligne ne contient que des 0 sur ces colonnes.\")\n",
    "\n",
    "lignes_vides = df3[df3.isna().any(axis=1) | df3.eq('').any(axis=1)]\n",
    "\n",
    "print(\"Lignes contenant au moins une cellule vide ou manquante :\")\n",
    "print(lignes_vides)\n",
    "\n",
    "# Afficher combien il y en a\n",
    "print(f\"\\nNombre de lignes concernées : {len(lignes_vides)}\")"
   ]
  },
  {
   "cell_type": "code",
   "execution_count": null,
   "id": "f7a72a02-aa4f-480d-88e2-3d13d7617f8d",
   "metadata": {},
   "outputs": [],
   "source": []
  }
 ],
 "metadata": {
  "kernelspec": {
   "display_name": "Python 3 (ipykernel)",
   "language": "python",
   "name": "python3"
  },
  "language_info": {
   "codemirror_mode": {
    "name": "ipython",
    "version": 3
   },
   "file_extension": ".py",
   "mimetype": "text/x-python",
   "name": "python",
   "nbconvert_exporter": "python",
   "pygments_lexer": "ipython3",
   "version": "3.11.0"
  }
 },
 "nbformat": 4,
 "nbformat_minor": 5
}
